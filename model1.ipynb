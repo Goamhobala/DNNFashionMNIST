{
 "cells": [
  {
   "cell_type": "markdown",
   "id": "fca6aeb9",
   "metadata": {},
   "source": [
    "# Model Experiments"
   ]
  },
  {
   "cell_type": "markdown",
   "id": "2f9bd3ea",
   "metadata": {},
   "source": []
  },
  {
   "cell_type": "code",
   "execution_count": 3,
   "id": "08f9edbd",
   "metadata": {},
   "outputs": [],
   "source": [
    "%matplotlib inline\n",
    "import numpy as np\n",
    "import torch\n",
    "import torch.nn as nn\n",
    "import torch.optim as optim\n",
    "import torch.utils.data as data\n",
    "from torchvision import datasets\n",
    "import matplotlib.pyplot as plt"
   ]
  },
  {
   "cell_type": "markdown",
   "id": "1f0b17e1",
   "metadata": {},
   "source": []
  },
  {
   "cell_type": "markdown",
   "id": "cf739978",
   "metadata": {},
   "source": [
    "## Process data"
   ]
  },
  {
   "cell_type": "code",
   "execution_count": 4,
   "id": "15394cbe",
   "metadata": {},
   "outputs": [
    {
     "data": {
      "text/plain": [
       "(torch.Size([1, 28, 28]), 60000, 10000)"
      ]
     },
     "execution_count": 4,
     "metadata": {},
     "output_type": "execute_result"
    }
   ],
   "source": [
    "import torchvision.transforms as transforms\n",
    "from torchvision.datasets import FashionMNIST\n",
    "\n",
    "DATA_DIR = \"./data\"\n",
    "transformation = transforms.Compose([transforms.ToTensor()])\n",
    "\n",
    "# mnist_real_train = datasets.FashionMNIST(DATA_DIR, train=True, download=False)\n",
    "# mnist_real_test = datasets.FashionMNIST(DATA_DIR, train=False, download=False)\n",
    "# mnist_real_test[0][0]\n",
    "\n",
    "mnist_real_train = datasets.FashionMNIST(DATA_DIR, train=True, download=False, transform=transformation)\n",
    "test_set = datasets.FashionMNIST(DATA_DIR, train=False, download=False, transform=transformation)\n",
    "\n",
    "# mnist_real_train[0][0]\n",
    "mnist_real_train[0][0].shape , len(mnist_real_train), len(test_set)\n",
    "\n",
    "\n",
    "\n"
   ]
  },
  {
   "cell_type": "markdown",
   "id": "8cde5d06",
   "metadata": {},
   "source": [
    "### Splitting train into train and validation"
   ]
  },
  {
   "cell_type": "code",
   "execution_count": 5,
   "id": "8e6d2574",
   "metadata": {},
   "outputs": [
    {
     "data": {
      "text/plain": [
       "(50000, 10000)"
      ]
     },
     "execution_count": 5,
     "metadata": {},
     "output_type": "execute_result"
    }
   ],
   "source": [
    "train_set, validation_set = data.random_split(mnist_real_train, (50000, 10000))\n",
    "len(train_set), len(validation_set)"
   ]
  },
  {
   "cell_type": "markdown",
   "id": "55e0ffc3",
   "metadata": {},
   "source": [
    "## Model"
   ]
  },
  {
   "cell_type": "code",
   "execution_count": 426,
   "id": "4059216b",
   "metadata": {},
   "outputs": [],
   "source": [
    "class ModelNoConv1Layer(nn.Module):\n",
    "    def __init__(self, input_size, num_classes):\n",
    "        super(ModelNoConv1Layer, self).__init__()\n",
    "        self.network = nn.Sequential(\n",
    "            nn.Flatten(),\n",
    "            nn.Linear(784, num_classes)\n",
    "            # softmax built into cross entropy loss already\n",
    "        )\n",
    "    def forward(self, x):\n",
    "        return self.network(x)\n",
    "    "
   ]
  },
  {
   "cell_type": "code",
   "execution_count": null,
   "id": "23572fb2",
   "metadata": {},
   "outputs": [],
   "source": [
    "class ModelNoConv(nn.Module):\n",
    "    def __init__(self, input_size, num_classes):\n",
    "        super(ModelNoConv, self).__init__()\n",
    "        self.classifier = nn.Sequential(\n",
    "            nn.Flatten(),\n",
    "            nn.Linear(input_size, 512),\n",
    "            nn.ReLU(),   \n",
    "            nn.Linear(256, 128),\n",
    "            nn.ReLU(),\n",
    "            nn.Linear(128,64),\n",
    "            nn.ReLU(),\n",
    "            nn.Linear(64, num_classes)\n",
    "            # softmax built into cross entropy loss already\n",
    "        )\n",
    "    def forward(self, x):\n",
    "        return self.classifier(x)"
   ]
  },
  {
   "cell_type": "code",
   "execution_count": 6,
   "id": "7bf62e9d",
   "metadata": {},
   "outputs": [],
   "source": [
    "class ModelNoConvDropout(nn.Module):\n",
    "    def __init__(self, input_size, num_classes, dropout):\n",
    "        super(ModelNoConvDropout, self).__init__()\n",
    "        self.classifier = nn.Sequential(\n",
    "            nn.Flatten(),\n",
    "            nn.Dropout(dropout),\n",
    "            nn.Linear(input_size, 512),\n",
    "            nn.Dropout(dropout),\n",
    "            nn.ReLU(),\n",
    "            nn.Linear(512, 256),\n",
    "            nn.Dropout(dropout),\n",
    "            nn.ReLU(),   \n",
    "            nn.Linear(256, 128),\n",
    "            nn.Dropout(dropout),\n",
    "            nn.ReLU(),\n",
    "            nn.Linear(128,64),\n",
    "            nn.Dropout(dropout),\n",
    "            nn.Linear(64, num_classes)\n",
    "            # softmax built into cross entropy loss already\n",
    "        )\n",
    "    def forward(self, x):\n",
    "        return self.classifier(x)"
   ]
  },
  {
   "cell_type": "code",
   "execution_count": 755,
   "id": "da775784",
   "metadata": {},
   "outputs": [
    {
     "data": {
      "text/plain": [
       "(torch.Size([1, 28, 28]), <torch.utils.data.dataset.Subset at 0x285f92540>)"
      ]
     },
     "execution_count": 755,
     "metadata": {},
     "output_type": "execute_result"
    }
   ],
   "source": [
    "train_set[0][0].shape, train_set"
   ]
  },
  {
   "cell_type": "code",
   "execution_count": 7,
   "id": "865ffd2f",
   "metadata": {},
   "outputs": [],
   "source": [
    "# model = ModelNoConv1Layer(28*28, 10)\n",
    "# model = ModelNoConv(784, 10)\n",
    "model = ModelNoConvDropout(28*28, 10, 0.1)"
   ]
  },
  {
   "cell_type": "code",
   "execution_count": 8,
   "id": "865b954b",
   "metadata": {},
   "outputs": [],
   "source": [
    "learning_rate = 1e-4\n",
    "weight_decay = 1e-4\n",
    "normalisation = True\n",
    "# if normalisation:\n",
    "#     transforms.Compose()"
   ]
  },
  {
   "cell_type": "code",
   "execution_count": 9,
   "id": "7c9ca856",
   "metadata": {},
   "outputs": [],
   "source": [
    "optimizer = optim.Adam(model.parameters(), lr = learning_rate)\n",
    "# optimizer = optim.SGD(model.parameters(), lr=learning_rate)\n",
    "loss_func = nn.CrossEntropyLoss()\n",
    "batch_size = 64\n",
    "num_epochs = 100"
   ]
  },
  {
   "cell_type": "code",
   "execution_count": 10,
   "id": "e835419c",
   "metadata": {},
   "outputs": [],
   "source": [
    "train_loader = torch.utils.data.DataLoader(dataset=train_set, batch_size=batch_size, shuffle=True)\n",
    "validation_loader = torch.utils.data.DataLoader(dataset=validation_set, batch_size=batch_size, shuffle=False)\n",
    "test_loader = torch.utils.data.DataLoader(dataset=test_set, batch_size=batch_size, shuffle=False)\n",
    "\n"
   ]
  },
  {
   "cell_type": "code",
   "execution_count": 11,
   "id": "0f94041c",
   "metadata": {},
   "outputs": [
    {
     "data": {
      "text/plain": [
       "(782, 157, 157)"
      ]
     },
     "execution_count": 11,
     "metadata": {},
     "output_type": "execute_result"
    }
   ],
   "source": [
    "len(train_loader), len(validation_loader), len(test_loader)"
   ]
  },
  {
   "cell_type": "code",
   "execution_count": 12,
   "id": "9c6539ac",
   "metadata": {},
   "outputs": [
    {
     "name": "stdout",
     "output_type": "stream",
     "text": [
      "Epoch: 0/100, Train Loss: 0.792698323726654\n",
      "Accuracy on Validation Set: 0.7975, Validation Loss: 0.5672440528869629\n",
      "Epoch: 1/100, Train Loss: 0.36505088210105896\n",
      "Accuracy on Validation Set: 0.8332, Validation Loss: 0.4721466898918152\n",
      "Epoch: 2/100, Train Loss: 0.3586246371269226\n",
      "Accuracy on Validation Set: 0.8505, Validation Loss: 0.4282970130443573\n",
      "Epoch: 3/100, Train Loss: 0.2768785357475281\n",
      "Accuracy on Validation Set: 0.856, Validation Loss: 0.4006614089012146\n",
      "Epoch: 4/100, Train Loss: 0.20334313809871674\n",
      "Accuracy on Validation Set: 0.8634, Validation Loss: 0.377498060464859\n",
      "Epoch: 5/100, Train Loss: 0.46088001132011414\n",
      "Accuracy on Validation Set: 0.8744, Validation Loss: 0.35731250047683716\n",
      "Epoch: 6/100, Train Loss: 0.4320516884326935\n",
      "Accuracy on Validation Set: 0.8764, Validation Loss: 0.34754034876823425\n",
      "Epoch: 7/100, Train Loss: 0.48275530338287354\n",
      "Accuracy on Validation Set: 0.8783, Validation Loss: 0.3367135524749756\n",
      "Epoch: 8/100, Train Loss: 0.48427799344062805\n",
      "Accuracy on Validation Set: 0.8752, Validation Loss: 0.34334486722946167\n",
      "Epoch: 9/100, Train Loss: 0.4163695275783539\n",
      "Accuracy on Validation Set: 0.8841, Validation Loss: 0.3209226429462433\n",
      "Epoch: 10/100, Train Loss: 0.2426253706216812\n",
      "Accuracy on Validation Set: 0.8849, Validation Loss: 0.3186793923377991\n",
      "Epoch: 11/100, Train Loss: 0.3356306254863739\n",
      "Accuracy on Validation Set: 0.8859, Validation Loss: 0.31171801686286926\n",
      "Epoch: 12/100, Train Loss: 0.12104711681604385\n",
      "Accuracy on Validation Set: 0.8865, Validation Loss: 0.31270697712898254\n",
      "Epoch: 13/100, Train Loss: 0.3554839491844177\n",
      "Accuracy on Validation Set: 0.892, Validation Loss: 0.30299633741378784\n",
      "Epoch: 14/100, Train Loss: 0.38387149572372437\n",
      "Accuracy on Validation Set: 0.8917, Validation Loss: 0.306300550699234\n",
      "Epoch: 15/100, Train Loss: 0.571721613407135\n",
      "Accuracy on Validation Set: 0.8911, Validation Loss: 0.29978474974632263\n",
      "Epoch: 16/100, Train Loss: 0.11954450607299805\n",
      "Accuracy on Validation Set: 0.893, Validation Loss: 0.29530882835388184\n",
      "Epoch: 17/100, Train Loss: 0.46549710631370544\n",
      "Accuracy on Validation Set: 0.8924, Validation Loss: 0.2993480861186981\n",
      "Epoch: 18/100, Train Loss: 0.15981191396713257\n",
      "Accuracy on Validation Set: 0.8938, Validation Loss: 0.30038779973983765\n",
      "Epoch: 19/100, Train Loss: 0.2532740533351898\n",
      "Accuracy on Validation Set: 0.8947, Validation Loss: 0.29112303256988525\n",
      "Epoch: 20/100, Train Loss: 0.3929665684700012\n",
      "Accuracy on Validation Set: 0.894, Validation Loss: 0.29298722743988037\n",
      "Epoch: 21/100, Train Loss: 0.09879805892705917\n",
      "Accuracy on Validation Set: 0.8979, Validation Loss: 0.2865694761276245\n",
      "Epoch: 22/100, Train Loss: 0.08529079705476761\n",
      "Accuracy on Validation Set: 0.8978, Validation Loss: 0.28983911871910095\n",
      "Epoch: 23/100, Train Loss: 0.2077196091413498\n",
      "Accuracy on Validation Set: 0.9001, Validation Loss: 0.2841765880584717\n",
      "Epoch: 24/100, Train Loss: 0.17607742547988892\n",
      "Accuracy on Validation Set: 0.8997, Validation Loss: 0.2815896272659302\n",
      "Epoch: 25/100, Train Loss: 0.266347736120224\n",
      "Accuracy on Validation Set: 0.8962, Validation Loss: 0.28788116574287415\n",
      "Epoch: 26/100, Train Loss: 0.15209811925888062\n",
      "Accuracy on Validation Set: 0.8976, Validation Loss: 0.2871941328048706\n",
      "Epoch: 27/100, Train Loss: 0.3048391044139862\n",
      "Accuracy on Validation Set: 0.9024, Validation Loss: 0.27416080236434937\n",
      "Epoch: 28/100, Train Loss: 0.08009275794029236\n",
      "Accuracy on Validation Set: 0.9047, Validation Loss: 0.28308236598968506\n",
      "Epoch: 29/100, Train Loss: 0.36460474133491516\n",
      "Accuracy on Validation Set: 0.9038, Validation Loss: 0.2819480299949646\n",
      "Epoch: 30/100, Train Loss: 0.4327870309352875\n",
      "Accuracy on Validation Set: 0.8969, Validation Loss: 0.284653902053833\n",
      "Early stopping at epoch:  31\n"
     ]
    }
   ],
   "source": [
    "\n",
    "train_loss = []\n",
    "validation_losses = []\n",
    "validation_accuracy = []\n",
    "test_accuracy = []\n",
    "patience_counter = 0\n",
    "window_size = 3\n",
    "early_stopping_window = np.repeat(100, window_size)\n",
    "\n",
    "for epoch in range(num_epochs):\n",
    "    model.train()\n",
    "    epoch_loss_total = 0 \n",
    "    for (X_batch, y_batch) in train_loader:\n",
    "        optimizer.zero_grad()\n",
    "        loss = loss_func(model(X_batch), y_batch)\n",
    "        loss.backward()\n",
    "        optimizer.step()\n",
    "        epoch_loss_total += loss.detach()\n",
    "    \n",
    "    epoch_loss = epoch_loss_total / len(train_loader)\n",
    "    print(f\"Epoch: {epoch}/{num_epochs}, Train Loss: {loss}\")\n",
    "    train_loss.append(epoch_loss)\n",
    "    \n",
    "\n",
    "    # if epoch % 10 == 0:\n",
    "    model.eval()\n",
    "    right = 0\n",
    "    total = 0\n",
    "    validation_epoch_loss_total = 0\n",
    "\n",
    "    with torch.no_grad():\n",
    "        for (X_batch, y_batch) in validation_loader:    \n",
    "            validation_epoch_loss_total += loss_func(model(X_batch), y_batch)\n",
    "            \n",
    "            total+=y_batch.size(0)\n",
    "      \n",
    "            output = model(X_batch)\n",
    "            _, predicted = torch.max(output, 1)\n",
    "            right += (predicted==y_batch).sum().item()\n",
    "\n",
    "    validation_epoch_loss = validation_epoch_loss_total/len(test_loader)\n",
    "    validation_losses.append(validation_epoch_loss)    \n",
    "    accuracy = right/total\n",
    "    validation_accuracy.append(accuracy)\n",
    "    \n",
    "    # Early stopping\n",
    "    patience = 3 # number of epochs to wait\n",
    "    \n",
    "    early_stopping_window = np.append(early_stopping_window,validation_epoch_loss)[1:]\n",
    "    \n",
    "    min_previous_validation_epoch_loss = early_stopping_window.min()\n",
    "    print(f\"Accuracy on Validation Set: {accuracy}, Validation Loss: {validation_epoch_loss}\")\n",
    "    if validation_epoch_loss <= min_previous_validation_epoch_loss:\n",
    "        patience_counter = 0\n",
    "    else:\n",
    "        patience_counter += 1\n",
    "        if (patience_counter == patience):\n",
    "            print(\"Early stopping at epoch: \", epoch + 1)\n",
    "            break    \n",
    "    \n",
    "    \n",
    "  \n",
    "\n",
    "    "
   ]
  },
  {
   "cell_type": "code",
   "execution_count": 13,
   "id": "d2841dea",
   "metadata": {},
   "outputs": [
    {
     "data": {
      "image/png": "[encoded data removed]",
      "text/plain": [
       "<Figure size 1200x600 with 2 Axes>"
      ]
     },
     "execution_count": 13,
     "metadata": {},
     "output_type": "execute_result"
    }
   ],
   "source": [
    "fig, axes = plt.subplots(1, 2, sharex=True, figsize=(12, 6))\n",
    "axes[0].plot(validation_accuracy)\n",
    "axes[1].plot(train_loss, color=\"coral\", label=\"training loss\")\n",
    "axes[1].plot(validation_losses, label=\"validation loss\")\n",
    "axes[0].set_title(\"Validation Accuracy vs Epoch\")\n",
    "axes[1].set(ylim=(0, 2), xlabel=\"epoch\", ylabel=\"loss\")\n",
    "axes[1].set_title(\"Validation Loss vs Training Loss\")\n",
    "axes[0].set(ylim=(0.75, 1), xticks=np.arange(0,21, 5), xlabel=\"epoch\", ylabel=\"accuracy %\")\n",
    "axes[1].legend()\n",
    "# axes[0].set_xticklabels(np.arange(0, num_epochs, num_epochs/(num_epochs * 0.1)), rotation=\"vertical\")\n",
    "# axes[1].set_xticklabels(np.arange(0, num_epochs, num_epochs/(num_epochs * 0.1)), rotation=\"vertical\")\n",
    "\n",
    "fig"
   ]
  },
  {
   "cell_type": "code",
   "execution_count": 14,
   "id": "efffa5e4",
   "metadata": {},
   "outputs": [
    {
     "name": "stdout",
     "output_type": "stream",
     "text": [
      "Test Set Accuracy: 0.8903\n"
     ]
    }
   ],
   "source": [
    "total_correct = 0\n",
    "total = 0\n",
    "for (X_batch, y_batch) in test_loader:\n",
    "    model.eval()\n",
    "    total += y_batch.size()[0]\n",
    "    output = model(X_batch)\n",
    "    _, predicted = torch.max(output, 1)\n",
    "    total_correct += (predicted == y_batch).sum().item()\n",
    "    \n",
    "test_accuracy = total_correct/total\n",
    "\n",
    "print(f\"Test Set Accuracy: {test_accuracy}\")"
   ]
  },
  {
   "cell_type": "markdown",
   "id": "cf59360b",
   "metadata": {},
   "source": [
    "Reading JPEGS"
   ]
  },
  {
   "cell_type": "code",
   "execution_count": 26,
   "id": "099882e9",
   "metadata": {},
   "outputs": [
    {
     "name": "stdout",
     "output_type": "stream",
     "text": [
      "Classifier:  Bag\n"
     ]
    }
   ],
   "source": [
    "from torchvision import io as img_io\n",
    "filepath = \"./data/fashion-jpegs/bag.jpg\"\n",
    "img = img_io.read_image(filepath, mode=img_io.ImageReadMode.GRAY)\n",
    "img = img.squeeze().float().unsqueeze(0)\n",
    "\n",
    "output = model(img)\n",
    "label_map = {\n",
    "    0: \"T-shirt/top\",\n",
    "    1: \"Trouser\",\n",
    "    2: \"Pullover\",\n",
    "    3: \"Dress\",\n",
    "    4: \"Coat\",\n",
    "    5: \"Sandal\",\n",
    "    6: \"Shirt\",\n",
    "    7: \"Sneaker\",\n",
    "    8: \"Bag\",\n",
    "    9: \"Ankle boot\"\n",
    "}\n",
    "_, predicted = torch.max(output, 1)\n",
    "print(\"Classifier: \", label_map[predicted.item()])"
   ]
  }
 ],
 "metadata": {
  "kernelspec": {
   "display_name": "ML",
   "language": "python",
   "name": "python3"
  },
  "language_info": {
   "codemirror_mode": {
    "name": "ipython",
    "version": 3
   },
   "file_extension": ".py",
   "mimetype": "text/x-python",
   "name": "python",
   "nbconvert_exporter": "python",
   "pygments_lexer": "ipython3",
   "version": "3.12.9"
  }
 },
 "nbformat": 4,
 "nbformat_minor": 5
}
