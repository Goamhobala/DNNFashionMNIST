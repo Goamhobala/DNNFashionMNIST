{
 "cells": [
  {
   "cell_type": "markdown",
   "id": "fca6aeb9",
   "metadata": {},
   "source": [
    "# Model Experiments"
   ]
  },
  {
   "cell_type": "code",
   "execution_count": 6,
   "id": "08f9edbd",
   "metadata": {},
   "outputs": [],
   "source": [
    "%matplotlib inline\n",
    "import numpy as np\n",
    "import torch\n",
    "import torch.nn as nn\n",
    "import torch.optim as optim\n",
    "import torch.utils.data as data\n",
    "from torchvision import datasets"
   ]
  },
  {
   "cell_type": "markdown",
   "id": "1f0b17e1",
   "metadata": {},
   "source": []
  },
  {
   "cell_type": "markdown",
   "id": "cf739978",
   "metadata": {},
   "source": [
    "## Process data"
   ]
  },
  {
   "cell_type": "code",
   "execution_count": null,
   "id": "15394cbe",
   "metadata": {},
   "outputs": [
    {
     "data": {
      "text/plain": [
       "torch.Tensor"
      ]
     },
     "execution_count": 12,
     "metadata": {},
     "output_type": "execute_result"
    }
   ],
   "source": [
    "import torchvision.transforms as transforms\n",
    "from torchvision.datasets import FashionMNIST\n",
    "\n",
    "DATA_DIR = \"./data\"\n",
    "transformation = transforms.Compose([transforms.ToTensor()])\n",
    "\n",
    "# mnist_real_train = datasets.FashionMNIST(DATA_DIR, train=True, download=False)\n",
    "# mnist_real_test = datasets.FashionMNIST(DATA_DIR, train=False, download=False)\n",
    "# mnist_real_test[0][0]\n",
    "\n",
    "mnist_real_train = datasets.FashionMNIST(DATA_DIR, train=True, download=False, transform=transformation)\n",
    "mnist_real_test = datasets.FashionMNIST(DATA_DIR, train=False, download=False, transform=transformation)\n",
    "\n",
    "mnist_real_train[0][0]\n"
   ]
  }
 ],
 "metadata": {
  "kernelspec": {
   "display_name": "ML",
   "language": "python",
   "name": "python3"
  },
  "language_info": {
   "codemirror_mode": {
    "name": "ipython",
    "version": 3
   },
   "file_extension": ".py",
   "mimetype": "text/x-python",
   "name": "python",
   "nbconvert_exporter": "python",
   "pygments_lexer": "ipython3",
   "version": "3.12.9"
  }
 },
 "nbformat": 4,
 "nbformat_minor": 5
}
