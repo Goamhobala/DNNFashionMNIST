{
 "cells": [
  {
   "cell_type": "markdown",
   "id": "fca6aeb9",
   "metadata": {},
   "source": [
    "# Model Experiments"
   ]
  },
  {
   "cell_type": "code",
   "execution_count": 45,
   "id": "08f9edbd",
   "metadata": {},
   "outputs": [],
   "source": [
    "%matplotlib inline\n",
    "import numpy as np\n",
    "import torch\n",
    "import torch.nn as nn\n",
    "import torch.optim as optim\n",
    "import torch.utils.data as data\n",
    "from torchvision import datasets\n",
    "import matplotlib.pyplot as plt"
   ]
  },
  {
   "cell_type": "markdown",
   "id": "1f0b17e1",
   "metadata": {},
   "source": []
  },
  {
   "cell_type": "markdown",
   "id": "cf739978",
   "metadata": {},
   "source": [
    "## Process data"
   ]
  },
  {
   "cell_type": "code",
   "execution_count": 3,
   "id": "15394cbe",
   "metadata": {},
   "outputs": [
    {
     "data": {
      "text/plain": [
       "(torch.Size([1, 28, 28]), 60000, 10000)"
      ]
     },
     "execution_count": 3,
     "metadata": {},
     "output_type": "execute_result"
    }
   ],
   "source": [
    "import torchvision.transforms as transforms\n",
    "from torchvision.datasets import FashionMNIST\n",
    "\n",
    "DATA_DIR = \"./data\"\n",
    "transformation = transforms.Compose([transforms.ToTensor()])\n",
    "\n",
    "# mnist_real_train = datasets.FashionMNIST(DATA_DIR, train=True, download=False)\n",
    "# mnist_real_test = datasets.FashionMNIST(DATA_DIR, train=False, download=False)\n",
    "# mnist_real_test[0][0]\n",
    "\n",
    "mnist_real_train = datasets.FashionMNIST(DATA_DIR, train=True, download=False, transform=transformation)\n",
    "test_set = datasets.FashionMNIST(DATA_DIR, train=False, download=False, transform=transformation)\n",
    "\n",
    "# mnist_real_train[0][0]\n",
    "mnist_real_train[0][0].shape , len(mnist_real_train), len(test_set)\n",
    "\n",
    "\n",
    "\n"
   ]
  },
  {
   "cell_type": "markdown",
   "id": "8cde5d06",
   "metadata": {},
   "source": [
    "### Splitting train into train and validation"
   ]
  },
  {
   "cell_type": "code",
   "execution_count": 234,
   "id": "8e6d2574",
   "metadata": {},
   "outputs": [
    {
     "data": {
      "text/plain": [
       "(50000, 10000)"
      ]
     },
     "execution_count": 234,
     "metadata": {},
     "output_type": "execute_result"
    }
   ],
   "source": [
    "train_set, validation_set = data.random_split(mnist_real_train, (50000, 10000))\n",
    "len(train_set), len(validation_set)"
   ]
  },
  {
   "cell_type": "markdown",
   "id": "55e0ffc3",
   "metadata": {},
   "source": [
    "## Model"
   ]
  },
  {
   "cell_type": "code",
   "execution_count": 426,
   "id": "4059216b",
   "metadata": {},
   "outputs": [],
   "source": [
    "class ModelNoConv1Layer(nn.Module):\n",
    "    def __init__(self, input_size, num_classes):\n",
    "        super(ModelNoConv1Layer, self).__init__()\n",
    "        self.network = nn.Sequential(\n",
    "            nn.Flatten(),\n",
    "            nn.Linear(784, num_classes)\n",
    "            # softmax built into cross entropy loss already\n",
    "        )\n",
    "    def forward(self, x):\n",
    "        return self.network(x)\n",
    "    "
   ]
  },
  {
   "cell_type": "code",
   "execution_count": null,
   "id": "23572fb2",
   "metadata": {},
   "outputs": [],
   "source": [
    "class ModelNoConv(nn.Module):\n",
    "    def __init__(self, input_size, num_classes):\n",
    "        super(ModelNoConv, self).__init__()\n",
    "        self.classifier = nn.Sequential(\n",
    "            nn.Flatten(),\n",
    "            nn.Linear(input_size, 512),\n",
    "            nn.ReLU(),   \n",
    "            nn.Linear(256, 128),\n",
    "            nn.ReLU(),\n",
    "            nn.Linear(128,64),\n",
    "            nn.ReLU(),\n",
    "            nn.Linear(64, num_classes)\n",
    "            # softmax built into cross entropy loss already\n",
    "        )\n",
    "    def forward(self, x):\n",
    "        return self.classifier(x)"
   ]
  },
  {
   "cell_type": "code",
   "execution_count": 762,
   "id": "7bf62e9d",
   "metadata": {},
   "outputs": [],
   "source": [
    "class ModelNoConvDropout(nn.Module):\n",
    "    def __init__(self, input_size, num_classes, dropout):\n",
    "        super(ModelNoConvDropout, self).__init__()\n",
    "        self.classifier = nn.Sequential(\n",
    "            nn.Flatten(),\n",
    "            nn.Dropout(dropout),\n",
    "            nn.Linear(input_size, 512),\n",
    "            nn.Dropout(dropout),\n",
    "            nn.ReLU(),\n",
    "            nn.Linear(512, 256),\n",
    "            nn.Dropout(dropout),\n",
    "            nn.ReLU(),   \n",
    "            nn.Linear(256, 128),\n",
    "            nn.Dropout(dropout),\n",
    "            nn.ReLU(),\n",
    "            nn.Linear(128,64),\n",
    "            nn.Dropout(dropout),\n",
    "            nn.Linear(64, num_classes)\n",
    "            # softmax built into cross entropy loss already\n",
    "        )\n",
    "    def forward(self, x):\n",
    "        return self.classifier(x)"
   ]
  },
  {
   "cell_type": "code",
   "execution_count": 755,
   "id": "da775784",
   "metadata": {},
   "outputs": [
    {
     "data": {
      "text/plain": [
       "(torch.Size([1, 28, 28]), <torch.utils.data.dataset.Subset at 0x285f92540>)"
      ]
     },
     "execution_count": 755,
     "metadata": {},
     "output_type": "execute_result"
    }
   ],
   "source": [
    "train_set[0][0].shape, train_set"
   ]
  },
  {
   "cell_type": "code",
   "execution_count": 763,
   "id": "865ffd2f",
   "metadata": {},
   "outputs": [],
   "source": [
    "# model = ModelNoConv1Layer(28*28, 10)\n",
    "# model = ModelNoConv(784, 10)\n",
    "model = ModelNoConvDropout(28*28, 10, 0.1)"
   ]
  },
  {
   "cell_type": "code",
   "execution_count": 764,
   "id": "865b954b",
   "metadata": {},
   "outputs": [],
   "source": [
    "learning_rate = 1e-4\n",
    "weight_decay = 1e-4\n",
    "normalisation = True\n",
    "# if normalisation:\n",
    "#     transforms.Compose()"
   ]
  },
  {
   "cell_type": "code",
   "execution_count": null,
   "id": "7c9ca856",
   "metadata": {},
   "outputs": [],
   "source": [
    "optimizer = optim.Adam(model.parameters(), lr = learning_rate)\n",
    "# optimizer = optim.SGD(model.parameters(), lr=learning_rate)\n",
    "loss_func = nn.CrossEntropyLoss()\n",
    "batch_size = 64\n",
    "num_epochs = 100"
   ]
  },
  {
   "cell_type": "code",
   "execution_count": 766,
   "id": "e835419c",
   "metadata": {},
   "outputs": [],
   "source": [
    "train_loader = torch.utils.data.DataLoader(dataset=train_set, batch_size=batch_size, shuffle=True)\n",
    "validation_loader = torch.utils.data.DataLoader(dataset=validation_set, batch_size=batch_size, shuffle=False)\n",
    "test_loader = torch.utils.data.DataLoader(dataset=test_set, batch_size=batch_size, shuffle=False)\n",
    "\n"
   ]
  },
  {
   "cell_type": "code",
   "execution_count": 767,
   "id": "0f94041c",
   "metadata": {},
   "outputs": [
    {
     "data": {
      "text/plain": [
       "(782, 157, 157)"
      ]
     },
     "execution_count": 767,
     "metadata": {},
     "output_type": "execute_result"
    }
   ],
   "source": [
    "len(train_loader), len(validation_loader), len(test_loader)"
   ]
  },
  {
   "cell_type": "code",
   "execution_count": 768,
   "id": "9c6539ac",
   "metadata": {},
   "outputs": [
    {
     "name": "stdout",
     "output_type": "stream",
     "text": [
      "Epoch: 0/100, Train Loss: 0.8840027451515198\n",
      "Accuracy on Validation Set: 0.791, Validation Loss: 0.5744942426681519\n",
      "Epoch: 1/100, Train Loss: 1.2343573570251465\n",
      "Accuracy on Validation Set: 0.8277, Validation Loss: 0.48916733264923096\n",
      "Epoch: 2/100, Train Loss: 0.35973820090293884\n",
      "Accuracy on Validation Set: 0.8405, Validation Loss: 0.4471854567527771\n",
      "Epoch: 3/100, Train Loss: 0.6522995233535767\n",
      "Accuracy on Validation Set: 0.8459, Validation Loss: 0.42541688680648804\n",
      "Epoch: 4/100, Train Loss: 0.48160773515701294\n",
      "Accuracy on Validation Set: 0.8604, Validation Loss: 0.39207082986831665\n",
      "Epoch: 5/100, Train Loss: 0.2137695550918579\n",
      "Accuracy on Validation Set: 0.862, Validation Loss: 0.37842223048210144\n",
      "Epoch: 6/100, Train Loss: 0.2628738582134247\n",
      "Accuracy on Validation Set: 0.8704, Validation Loss: 0.363562673330307\n",
      "Epoch: 7/100, Train Loss: 0.48114269971847534\n",
      "Accuracy on Validation Set: 0.8747, Validation Loss: 0.3533233404159546\n",
      "Epoch: 8/100, Train Loss: 0.3844212293624878\n",
      "Accuracy on Validation Set: 0.8729, Validation Loss: 0.34746015071868896\n",
      "Epoch: 9/100, Train Loss: 0.11005856841802597\n",
      "Accuracy on Validation Set: 0.8775, Validation Loss: 0.3383735418319702\n",
      "Epoch: 10/100, Train Loss: 0.22695928812026978\n",
      "Accuracy on Validation Set: 0.8774, Validation Loss: 0.33187055587768555\n",
      "Epoch: 11/100, Train Loss: 0.6258051991462708\n",
      "Accuracy on Validation Set: 0.8797, Validation Loss: 0.32865574955940247\n",
      "Epoch: 12/100, Train Loss: 0.09906698763370514\n",
      "Accuracy on Validation Set: 0.8793, Validation Loss: 0.32338565587997437\n",
      "Epoch: 13/100, Train Loss: 0.3144024610519409\n",
      "Accuracy on Validation Set: 0.8731, Validation Loss: 0.34780558943748474\n",
      "Epoch: 14/100, Train Loss: 0.1948244720697403\n",
      "Accuracy on Validation Set: 0.8795, Validation Loss: 0.3270909786224365\n",
      "Epoch: 15/100, Train Loss: 0.4150075614452362\n",
      "Accuracy on Validation Set: 0.8837, Validation Loss: 0.31795966625213623\n",
      "Epoch: 16/100, Train Loss: 0.16566850244998932\n",
      "Accuracy on Validation Set: 0.88, Validation Loss: 0.326098769903183\n",
      "Epoch: 17/100, Train Loss: 0.20227083563804626\n",
      "Accuracy on Validation Set: 0.8865, Validation Loss: 0.3059321641921997\n",
      "Epoch: 18/100, Train Loss: 0.32407891750335693\n",
      "Accuracy on Validation Set: 0.8887, Validation Loss: 0.3056822121143341\n",
      "Epoch: 19/100, Train Loss: 0.27299582958221436\n",
      "Accuracy on Validation Set: 0.8866, Validation Loss: 0.30190783739089966\n",
      "Epoch: 20/100, Train Loss: 0.3988140821456909\n",
      "Accuracy on Validation Set: 0.8881, Validation Loss: 0.3034438490867615\n",
      "Epoch: 21/100, Train Loss: 0.17888669669628143\n",
      "Accuracy on Validation Set: 0.8889, Validation Loss: 0.30076315999031067\n",
      "Epoch: 22/100, Train Loss: 0.18944087624549866\n",
      "Accuracy on Validation Set: 0.8903, Validation Loss: 0.2972024977207184\n",
      "Epoch: 23/100, Train Loss: 0.29596585035324097\n",
      "Accuracy on Validation Set: 0.8887, Validation Loss: 0.3040415644645691\n",
      "Epoch: 24/100, Train Loss: 0.11608610302209854\n",
      "Accuracy on Validation Set: 0.8902, Validation Loss: 0.299584299325943\n",
      "Epoch: 25/100, Train Loss: 0.3751595616340637\n",
      "Accuracy on Validation Set: 0.8922, Validation Loss: 0.29369184374809265\n",
      "Epoch: 26/100, Train Loss: 0.05563801899552345\n",
      "Accuracy on Validation Set: 0.8902, Validation Loss: 0.2981269359588623\n",
      "Epoch: 27/100, Train Loss: 0.13980154693126678\n",
      "Accuracy on Validation Set: 0.8918, Validation Loss: 0.28871726989746094\n",
      "Epoch: 28/100, Train Loss: 0.08609938621520996\n",
      "Accuracy on Validation Set: 0.8929, Validation Loss: 0.2922894060611725\n",
      "Epoch: 29/100, Train Loss: 0.14317183196544647\n",
      "Accuracy on Validation Set: 0.8918, Validation Loss: 0.293334424495697\n",
      "Epoch: 30/100, Train Loss: 0.17090097069740295\n",
      "Accuracy on Validation Set: 0.8932, Validation Loss: 0.28925344347953796\n",
      "Epoch: 31/100, Train Loss: 0.05287567153573036\n",
      "Accuracy on Validation Set: 0.8946, Validation Loss: 0.29054683446884155\n",
      "Epoch: 32/100, Train Loss: 0.08005845546722412\n",
      "Accuracy on Validation Set: 0.8955, Validation Loss: 0.29046663641929626\n",
      "Epoch: 33/100, Train Loss: 0.288795530796051\n",
      "Accuracy on Validation Set: 0.8923, Validation Loss: 0.289526104927063\n",
      "Epoch: 34/100, Train Loss: 0.0570882149040699\n",
      "Accuracy on Validation Set: 0.8932, Validation Loss: 0.2911445200443268\n",
      "Epoch: 35/100, Train Loss: 0.16937509179115295\n",
      "Accuracy on Validation Set: 0.8933, Validation Loss: 0.29808109998703003\n",
      "Epoch: 36/100, Train Loss: 0.06694101542234421\n",
      "Accuracy on Validation Set: 0.8922, Validation Loss: 0.29413849115371704\n",
      "Early stopping at epoch:  37\n"
     ]
    }
   ],
   "source": [
    "\n",
    "train_loss = []\n",
    "validation_losses = []\n",
    "validation_accuracy = []\n",
    "test_accuracy = []\n",
    "patience_counter = 0\n",
    "window_size = 3\n",
    "early_stopping_window = np.repeat(100, window_size)\n",
    "\n",
    "for epoch in range(num_epochs):\n",
    "    model.train()\n",
    "    epoch_loss_total = 0 \n",
    "    for (X_batch, y_batch) in train_loader:\n",
    "        optimizer.zero_grad()\n",
    "        loss = loss_func(model(X_batch), y_batch)\n",
    "        loss.backward()\n",
    "        optimizer.step()\n",
    "        epoch_loss_total += loss.detach()\n",
    "    \n",
    "    epoch_loss = epoch_loss_total / len(train_loader)\n",
    "    print(f\"Epoch: {epoch}/{num_epochs}, Train Loss: {loss}\")\n",
    "    train_loss.append(epoch_loss)\n",
    "    \n",
    "\n",
    "    # if epoch % 10 == 0:\n",
    "    model.eval()\n",
    "    right = 0\n",
    "    total = 0\n",
    "    validation_epoch_loss_total = 0\n",
    "\n",
    "    with torch.no_grad():\n",
    "        for (X_batch, y_batch) in validation_loader:    \n",
    "            validation_epoch_loss_total += loss_func(model(X_batch), y_batch)\n",
    "            \n",
    "            total+=y_batch.size(0)\n",
    "            output = model(X_batch)\n",
    "            _, predicted = torch.max(output, 1)\n",
    "            right += (predicted==y_batch).sum().item()\n",
    "\n",
    "    validation_epoch_loss = validation_epoch_loss_total/len(test_loader)\n",
    "    validation_losses.append(validation_epoch_loss)    \n",
    "    accuracy = right/total\n",
    "    validation_accuracy.append(accuracy)\n",
    "    \n",
    "    # Early stopping\n",
    "    patience = 3 # number of epochs to wait\n",
    "    \n",
    "    early_stopping_window = np.append(early_stopping_window,validation_epoch_loss)[1:]\n",
    "    \n",
    "    min_previous_validation_epoch_loss = early_stopping_window.min()\n",
    "    print(f\"Accuracy on Validation Set: {accuracy}, Validation Loss: {validation_epoch_loss}\")\n",
    "    if validation_epoch_loss <= min_previous_validation_epoch_loss:\n",
    "        patience_counter = 0\n",
    "    else:\n",
    "        patience_counter += 1\n",
    "        if (patience_counter == patience):\n",
    "            print(\"Early stopping at epoch: \", epoch + 1)\n",
    "            break    \n",
    "    \n",
    "    \n",
    "  \n",
    "\n",
    "    "
   ]
  },
  {
   "cell_type": "code",
   "execution_count": 769,
   "id": "d2841dea",
   "metadata": {},
   "outputs": [
    {
     "data": {
      "image/png": "[encoded data removed]",
      "text/plain": [
       "<Figure size 1200x600 with 2 Axes>"
      ]
     },
     "execution_count": 769,
     "metadata": {},
     "output_type": "execute_result"
    }
   ],
   "source": [
    "fig, axes = plt.subplots(1, 2, sharex=True, figsize=(12, 6))\n",
    "axes[0].plot(validation_accuracy)\n",
    "axes[1].plot(train_loss, color=\"coral\", label=\"training loss\")\n",
    "axes[1].plot(validation_losses, label=\"validation loss\")\n",
    "axes[0].set_title(\"Validation Accuracy vs Epoch\")\n",
    "axes[1].set(ylim=(0, 2), xlabel=\"epoch\", ylabel=\"loss\")\n",
    "axes[1].set_title(\"Validation Loss vs Training Loss\")\n",
    "axes[0].set(ylim=(0.75, 1), xticks=np.arange(0,21, 5), xlabel=\"epoch\", ylabel=\"accuracy %\")\n",
    "axes[1].legend()\n",
    "# axes[0].set_xticklabels(np.arange(0, num_epochs, num_epochs/(num_epochs * 0.1)), rotation=\"vertical\")\n",
    "# axes[1].set_xticklabels(np.arange(0, num_epochs, num_epochs/(num_epochs * 0.1)), rotation=\"vertical\")\n",
    "\n",
    "fig"
   ]
  },
  {
   "cell_type": "code",
   "execution_count": 770,
   "id": "efffa5e4",
   "metadata": {},
   "outputs": [
    {
     "name": "stdout",
     "output_type": "stream",
     "text": [
      "Accuracy: 0.8936\n"
     ]
    }
   ],
   "source": [
    "total_correct = 0\n",
    "total = 0\n",
    "for (X_batch, y_batch) in test_loader:\n",
    "    model.eval()\n",
    "    total += y_batch.size()[0]\n",
    "    output = model(X_batch)\n",
    "    _, predicted = torch.max(output, 1)\n",
    "    total_correct += (predicted == y_batch).sum().item()\n",
    "    \n",
    "test_accuracy = total_correct/total\n",
    "\n",
    "print(f\"Accuracy: {test_accuracy}\")"
   ]
  }
 ],
 "metadata": {
  "kernelspec": {
   "display_name": "ML",
   "language": "python",
   "name": "python3"
  },
  "language_info": {
   "codemirror_mode": {
    "name": "ipython",
    "version": 3
   },
   "file_extension": ".py",
   "mimetype": "text/x-python",
   "name": "python",
   "nbconvert_exporter": "python",
   "pygments_lexer": "ipython3",
   "version": "3.12.9"
  }
 },
 "nbformat": 4,
 "nbformat_minor": 5
}
