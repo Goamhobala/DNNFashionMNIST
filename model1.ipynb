{
 "cells": [
  {
   "cell_type": "markdown",
   "id": "fca6aeb9",
   "metadata": {},
   "source": [
    "# Model Experiments"
   ]
  },
  {
   "cell_type": "code",
   "execution_count": 45,
   "id": "08f9edbd",
   "metadata": {},
   "outputs": [],
   "source": [
    "%matplotlib inline\n",
    "import numpy as np\n",
    "import torch\n",
    "import torch.nn as nn\n",
    "import torch.optim as optim\n",
    "import torch.utils.data as data\n",
    "from torchvision import datasets\n",
    "import matplotlib.pyplot as plt"
   ]
  },
  {
   "cell_type": "markdown",
   "id": "1f0b17e1",
   "metadata": {},
   "source": []
  },
  {
   "cell_type": "markdown",
   "id": "cf739978",
   "metadata": {},
   "source": [
    "## Process data"
   ]
  },
  {
   "cell_type": "code",
   "execution_count": 3,
   "id": "15394cbe",
   "metadata": {},
   "outputs": [
    {
     "data": {
      "text/plain": [
       "(torch.Size([1, 28, 28]), 60000, 10000)"
      ]
     },
     "execution_count": 3,
     "metadata": {},
     "output_type": "execute_result"
    }
   ],
   "source": [
    "import torchvision.transforms as transforms\n",
    "from torchvision.datasets import FashionMNIST\n",
    "\n",
    "DATA_DIR = \"./data\"\n",
    "transformation = transforms.Compose([transforms.ToTensor()])\n",
    "\n",
    "# mnist_real_train = datasets.FashionMNIST(DATA_DIR, train=True, download=False)\n",
    "# mnist_real_test = datasets.FashionMNIST(DATA_DIR, train=False, download=False)\n",
    "# mnist_real_test[0][0]\n",
    "\n",
    "mnist_real_train = datasets.FashionMNIST(DATA_DIR, train=True, download=False, transform=transformation)\n",
    "test_set = datasets.FashionMNIST(DATA_DIR, train=False, download=False, transform=transformation)\n",
    "\n",
    "# mnist_real_train[0][0]\n",
    "mnist_real_train[0][0].shape , len(mnist_real_train), len(test_set)\n",
    "\n",
    "\n",
    "\n"
   ]
  },
  {
   "cell_type": "markdown",
   "id": "8cde5d06",
   "metadata": {},
   "source": [
    "### Splitting train into train and validation"
   ]
  },
  {
   "cell_type": "code",
   "execution_count": 234,
   "id": "8e6d2574",
   "metadata": {},
   "outputs": [
    {
     "data": {
      "text/plain": [
       "(50000, 10000)"
      ]
     },
     "execution_count": 234,
     "metadata": {},
     "output_type": "execute_result"
    }
   ],
   "source": [
    "train_set, validation_set = data.random_split(mnist_real_train, (50000, 10000))\n",
    "len(train_set), len(validation_set)"
   ]
  },
  {
   "cell_type": "markdown",
   "id": "55e0ffc3",
   "metadata": {},
   "source": [
    "## Model"
   ]
  },
  {
   "cell_type": "code",
   "execution_count": 416,
   "id": "4059216b",
   "metadata": {},
   "outputs": [],
   "source": [
    "class ModelNoConv1Layer(nn.Module):\n",
    "    def __init__(self, input_size, num_classes):\n",
    "        super(ModelNoConv1Layer, self).__init__()\n",
    "        self.network = nn.Sequential(\n",
    "            nn.Flatten(),\n",
    "            nn.Linear(784, num_classes)\n",
    "            # softmax built into cross entropy loss already\n",
    "        )\n",
    "    def forward(self, x):\n",
    "        return self.network(x)\n",
    "    "
   ]
  },
  {
   "cell_type": "code",
   "execution_count": 311,
   "id": "23572fb2",
   "metadata": {},
   "outputs": [],
   "source": [
    "class ModelNoConv(nn.Module):\n",
    "    def __init__(self, input_size, num_classes):\n",
    "        super(ModelNoConv, self).__init__()\n",
    "        self.classifier = nn.Sequential(\n",
    "            nn.Flatten(),\n",
    "            nn.Linear(input_size, 392),\n",
    "            nn.ReLU(),   \n",
    "            nn.Linear(392, 196),\n",
    "            nn.ReLU(),\n",
    "            nn.Linear(196,98),\n",
    "            nn.ReLU(),\n",
    "            nn.Linear(98, num_classes)\n",
    "            # softmax built into cross entropy loss already\n",
    "        )\n",
    "    def forward(self, x):\n",
    "        return self.classifier(x)"
   ]
  },
  {
   "cell_type": "code",
   "execution_count": 408,
   "id": "7bf62e9d",
   "metadata": {},
   "outputs": [],
   "source": [
    "class ModelNoConvDropout(nn.Module):\n",
    "    def __init__(self, input_size, num_classes, dropout):\n",
    "        super(ModelNoConvDropout, self).__init__()\n",
    "        self.classifier = nn.Sequential(\n",
    "            nn.Flatten(),\n",
    "            nn.Dropout(dropout),\n",
    "            nn.Linear(input_size, 392),\n",
    "            nn.Dropout(dropout),\n",
    "            nn.ReLU(),   \n",
    "            nn.Dropout(dropout),\n",
    "            nn.Linear(392, 196),\n",
    "            nn.Dropout(dropout),\n",
    "            nn.ReLU(),\n",
    "            nn.Linear(196,98),\n",
    "            nn.Dropout(dropout),\n",
    "            nn.Linear(98, num_classes)\n",
    "            # softmax built into cross entropy loss already\n",
    "        )\n",
    "    def forward(self, x):\n",
    "        return self.classifier(x)"
   ]
  },
  {
   "cell_type": "code",
   "execution_count": 417,
   "id": "da775784",
   "metadata": {},
   "outputs": [
    {
     "data": {
      "text/plain": [
       "(torch.Size([1, 28, 28]), <torch.utils.data.dataset.Subset at 0x285f92540>)"
      ]
     },
     "execution_count": 417,
     "metadata": {},
     "output_type": "execute_result"
    }
   ],
   "source": [
    "train_set[0][0].shape, train_set"
   ]
  },
  {
   "cell_type": "code",
   "execution_count": 418,
   "id": "865ffd2f",
   "metadata": {},
   "outputs": [],
   "source": [
    "model = ModelNoConv1Layer(28*28, 10)\n",
    "# model = ModelNoConv(784, 10)\n",
    "# model = ModelNoConvDropout(28*28, 10, 0.25)"
   ]
  },
  {
   "cell_type": "code",
   "execution_count": 419,
   "id": "865b954b",
   "metadata": {},
   "outputs": [],
   "source": [
    "learning_rate = 1e-3\n",
    "normalisation = True\n",
    "# if normalisation:\n",
    "#     transforms.Compose()"
   ]
  },
  {
   "cell_type": "code",
   "execution_count": 420,
   "id": "7c9ca856",
   "metadata": {},
   "outputs": [],
   "source": [
    "optimizer = optim.Adam(model.parameters(), lr = learning_rate)\n",
    "# optimizer = optim.SGD(model.parameters(), lr=learning_rate)\n",
    "loss_func = nn.CrossEntropyLoss()\n",
    "batch_size = 64\n",
    "num_epochs = 100"
   ]
  },
  {
   "cell_type": "code",
   "execution_count": 421,
   "id": "e835419c",
   "metadata": {},
   "outputs": [],
   "source": [
    "train_loader = torch.utils.data.DataLoader(dataset=train_set, batch_size=batch_size, shuffle=True)\n",
    "validation_loader = torch.utils.data.DataLoader(dataset=validation_set, batch_size=batch_size, shuffle=False)\n",
    "test_loader = torch.utils.data.DataLoader(dataset=test_set, batch_size=batch_size, shuffle=False)\n",
    "\n"
   ]
  },
  {
   "cell_type": "code",
   "execution_count": 422,
   "id": "0f94041c",
   "metadata": {},
   "outputs": [
    {
     "data": {
      "text/plain": [
       "(782, 157, 157)"
      ]
     },
     "execution_count": 422,
     "metadata": {},
     "output_type": "execute_result"
    }
   ],
   "source": [
    "len(train_loader), len(validation_loader), len(test_loader)"
   ]
  },
  {
   "cell_type": "code",
   "execution_count": null,
   "id": "9c6539ac",
   "metadata": {},
   "outputs": [
    {
     "name": "stdout",
     "output_type": "stream",
     "text": [
      "Epoch: 0/100, Train Loss: 0.36087778210639954\n",
      "Accuracy on Validation Set: 0.8441, Validation Loss: 0.45497623085975647\n",
      "[100.         100.           0.45497623]\n",
      "Epoch: 1/100, Train Loss: 0.1692066192626953\n",
      "Accuracy on Validation Set: 0.8474, Validation Loss: 0.4436570703983307\n",
      "[100.           0.45497623   0.44365707]\n",
      "Epoch: 2/100, Train Loss: 0.44782447814941406\n",
      "Accuracy on Validation Set: 0.8533, Validation Loss: 0.43303054571151733\n",
      "[0.45497623 0.44365707 0.43303055]\n",
      "Early stopping at epoch:  2\n"
     ]
    }
   ],
   "source": [
    "\n",
    "train_loss = []\n",
    "validation_losses = []\n",
    "validation_accuracy = []\n",
    "test_accuracy = []\n",
    "patience_counter = 0\n",
    "window_size = 3\n",
    "early_stopping_window = np.array([100, 100, 100])\n",
    "\n",
    "for epoch in range(num_epochs):\n",
    "    model.train()\n",
    "    epoch_loss_total = 0 \n",
    "    for (X_batch, y_batch) in train_loader:\n",
    "        optimizer.zero_grad()\n",
    "        loss = loss_func(model(X_batch), y_batch)\n",
    "        loss.backward()\n",
    "        optimizer.step()\n",
    "        epoch_loss_total += loss.detach()\n",
    "    \n",
    "    epoch_loss = epoch_loss_total / len(train_loader)\n",
    "    print(f\"Epoch: {epoch}/{num_epochs}, Train Loss: {loss}\")\n",
    "    train_loss.append(epoch_loss)\n",
    "    \n",
    "\n",
    "    # if epoch % 10 == 0:\n",
    "    model.eval()\n",
    "    right = 0\n",
    "    total = 0\n",
    "    validation_epoch_loss_total = 0\n",
    "\n",
    "    with torch.no_grad():\n",
    "        for (X_batch, y_batch) in validation_loader:    \n",
    "            validation_epoch_loss_total += loss_func(model(X_batch), y_batch)\n",
    "            \n",
    "            total+=y_batch.size(0)\n",
    "            output = model(X_batch)\n",
    "            _, predicted = torch.max(output, 1)\n",
    "            right += (predicted==y_batch).sum().item()\n",
    "\n",
    "    validation_epoch_loss = validation_epoch_loss_total/len(test_loader)\n",
    "    validation_losses.append(validation_epoch_loss)    \n",
    "    accuracy = right/total\n",
    "    validation_accuracy.append(accuracy)\n",
    "    \n",
    "    # Early stopping\n",
    "    patience = 3 # number of epochs to wait\n",
    "    \n",
    "    early_stopping_window = np.append(early_stopping_window,validation_epoch_loss)[1:]\n",
    "    \n",
    "    min_previous_validation_epoch_loss = early_stopping_window.min()\n",
    "    print(f\"Accuracy on Validation Set: {accuracy}, Validation Loss: {validation_epoch_loss}\")\n",
    "    print(early_stopping_window)\n",
    "    if validation_epoch_loss <= min_previous_validation_epoch_loss:\n",
    "        patience_counter = 0\n",
    "    else:\n",
    "        patience_counter += 1\n",
    "        if (patience_counter == patience):\n",
    "            print(\"Early stopping at epoch: \", epoch + 1)\n",
    "            break    \n",
    "    \n",
    "    \n",
    "  \n",
    "\n",
    "    "
   ]
  },
  {
   "cell_type": "code",
   "execution_count": 405,
   "id": "d2841dea",
   "metadata": {},
   "outputs": [
    {
     "data": {
      "image/png": "[encoded data removed]",
      "text/plain": [
       "<Figure size 640x480 with 2 Axes>"
      ]
     },
     "execution_count": 405,
     "metadata": {},
     "output_type": "execute_result"
    }
   ],
   "source": [
    "fig, axes = plt.subplots(1, 2, sharex=True)\n",
    "axes[0].plot(validation_accuracy)\n",
    "axes[1].plot(train_loss, color=\"coral\")\n",
    "axes[1].plot(validation_losses)\n",
    "axes[1].set(ylim=(0, 2))\n",
    "axes[0].set(ylim=(0.75, 1), xticks=np.arange(0, num_epochs, num_epochs/(num_epochs * 0.1)))\n",
    "axes[0].set_xticklabels(np.arange(0, num_epochs, num_epochs/(num_epochs * 0.1)), rotation=\"vertical\")\n",
    "axes[1].set_xticklabels(np.arange(0, num_epochs, num_epochs/(num_epochs * 0.1)), rotation=\"vertical\")\n",
    "\n",
    "fig"
   ]
  },
  {
   "cell_type": "code",
   "execution_count": 352,
   "id": "efffa5e4",
   "metadata": {},
   "outputs": [
    {
     "name": "stdout",
     "output_type": "stream",
     "text": [
      "Accuracy: 0.8243\n"
     ]
    }
   ],
   "source": [
    "total_correct = 0\n",
    "total = 0\n",
    "for (X_batch, y_batch) in test_loader:\n",
    "    model.eval()\n",
    "    total += y_batch.size()[0]\n",
    "    output = model(X_batch)\n",
    "    _, predicted = torch.max(output, 1)\n",
    "    total_correct += (predicted == y_batch).sum().item()\n",
    "    \n",
    "test_accuracy = total_correct/total\n",
    "\n",
    "print(f\"Accuracy: {test_accuracy}\")"
   ]
  }
 ],
 "metadata": {
  "kernelspec": {
   "display_name": "ML",
   "language": "python",
   "name": "python3"
  },
  "language_info": {
   "codemirror_mode": {
    "name": "ipython",
    "version": 3
   },
   "file_extension": ".py",
   "mimetype": "text/x-python",
   "name": "python",
   "nbconvert_exporter": "python",
   "pygments_lexer": "ipython3",
   "version": "3.12.9"
  }
 },
 "nbformat": 4,
 "nbformat_minor": 5
}
